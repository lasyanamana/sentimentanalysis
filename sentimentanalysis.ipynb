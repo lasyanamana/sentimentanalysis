{
 "cells": [
  {
   "cell_type": "code",
   "execution_count": 1,
   "id": "51694406-a98c-4148-ae51-b77544f5c4d0",
   "metadata": {},
   "outputs": [],
   "source": [
    "# Sentiment Analysis with NLP\n",
    "import pandas as pd\n",
    "import numpy as np\n",
    "import matplotlib.pyplot as plt\n",
    "import seaborn as sns\n",
    "from sklearn.feature_extraction.text import TfidfVectorizer\n",
    "from sklearn.model_selection import train_test_split\n",
    "from sklearn.linear_model import LogisticRegression\n",
    "from sklearn.metrics import classification_report, confusion_matrix, accuracy_score\n",
    "from nltk.corpus import stopwords\n",
    "from nltk.stem import WordNetLemmatizer\n",
    "import nltk\n",
    "import re\n",
    "import string"
   ]
  },
  {
   "cell_type": "code",
   "execution_count": 2,
   "id": "c44e5451-08cc-48e9-bed6-12533f8da6f9",
   "metadata": {},
   "outputs": [
    {
     "name": "stderr",
     "output_type": "stream",
     "text": [
      "[nltk_data] Downloading package stopwords to\n",
      "[nltk_data]     C:\\Users\\srila\\AppData\\Roaming\\nltk_data...\n",
      "[nltk_data]   Unzipping corpora\\stopwords.zip.\n",
      "[nltk_data] Downloading package wordnet to\n",
      "[nltk_data]     C:\\Users\\srila\\AppData\\Roaming\\nltk_data...\n",
      "[nltk_data]   Package wordnet is already up-to-date!\n",
      "[nltk_data] Downloading package omw-1.4 to\n",
      "[nltk_data]     C:\\Users\\srila\\AppData\\Roaming\\nltk_data...\n"
     ]
    },
    {
     "data": {
      "text/plain": [
       "True"
      ]
     },
     "execution_count": 2,
     "metadata": {},
     "output_type": "execute_result"
    }
   ],
   "source": [
    "nltk.download('stopwords')\n",
    "nltk.download('wordnet')\n",
    "nltk.download('omw-1.4')"
   ]
  },
  {
   "cell_type": "code",
   "execution_count": 4,
   "id": "bd23be4d-d2b7-4b12-a8b0-3e895d977b85",
   "metadata": {},
   "outputs": [
    {
     "name": "stdout",
     "output_type": "stream",
     "text": [
      "Sample Dataset:\n",
      "<bound method NDFrame.head of                                               review sentiment\n",
      "0  I love this product! It's amazing and works pe...  positive\n",
      "1  Terrible experience. The item broke after 2 days.  negative\n",
      "2  Good quality for the price. I'm satisfied with...  positive\n",
      "3  Not what I expected. The description was misle...  negative\n",
      "4  Excellent service and fast delivery. Highly re...  positive\n",
      "5  The worst product I've ever bought. Complete w...  negative\n",
      "6  It's okay, nothing special. Does the job but c...   neutral\n",
      "7  Absolutely fantastic! Exceeded all my expectat...  positive\n",
      "8  Poor customer service. They didn't respond to ...  negative\n",
      "9  Great value. Works as described. Very happy wi...  positive>\n"
     ]
    }
   ],
   "source": [
    "data = {\n",
    "    'review': [\n",
    "        \"I love this product! It's amazing and works perfectly.\",\n",
    "        \"Terrible experience. The item broke after 2 days.\",\n",
    "        \"Good quality for the price. I'm satisfied with my purchase.\",\n",
    "        \"Not what I expected. The description was misleading.\",\n",
    "        \"Excellent service and fast delivery. Highly recommend!\",\n",
    "        \"The worst product I've ever bought. Complete waste of money.\",\n",
    "        \"It's okay, nothing special. Does the job but could be better.\",\n",
    "        \"Absolutely fantastic! Exceeded all my expectations.\",\n",
    "        \"Poor customer service. They didn't respond to my complaints.\",\n",
    "        \"Great value. Works as described. Very happy with it.\"\n",
    "    ],\n",
    "    'sentiment': ['positive', 'negative', 'positive', 'negative', \n",
    "                  'positive', 'negative', 'neutral', 'positive', \n",
    "                  'negative', 'positive']\n",
    "}\n",
    "\n",
    "df = pd.DataFrame(data)\n",
    "\n",
    "# Display the dataset\n",
    "print(\"Sample Dataset:\")\n",
    "print(df.head)\n"
   ]
  },
  {
   "cell_type": "code",
   "execution_count": 5,
   "id": "b4a61e6f-0fb6-4e1e-a0c6-b71758768d55",
   "metadata": {},
   "outputs": [],
   "source": [
    "lemmatizer = WordNetLemmatizer()\n",
    "stop_words = set(stopwords.words('english'))"
   ]
  },
  {
   "cell_type": "code",
   "execution_count": 7,
   "id": "61a7faf5-9290-4dbd-8bde-73654bf57236",
   "metadata": {},
   "outputs": [
    {
     "name": "stdout",
     "output_type": "stream",
     "text": [
      "\n",
      "Preprocessed Reviews:\n",
      "                                              review  \\\n",
      "0  I love this product! It's amazing and works pe...   \n",
      "1  Terrible experience. The item broke after 2 days.   \n",
      "2  Good quality for the price. I'm satisfied with...   \n",
      "3  Not what I expected. The description was misle...   \n",
      "4  Excellent service and fast delivery. Highly re...   \n",
      "\n",
      "                                     cleaned_review  \n",
      "0               love product amazing work perfectly  \n",
      "1                terrible experience item broke day  \n",
      "2          good quality price im satisfied purchase  \n",
      "3                   expected description misleading  \n",
      "4  excellent service fast delivery highly recommend  \n"
     ]
    }
   ],
   "source": [
    "def preprocess_text(text):\n",
    "    # Convert to lowercase\n",
    "    text = text.lower()\n",
    "    \n",
    "    # Remove punctuation\n",
    "    text = re.sub(f'[{re.escape(string.punctuation)}]', '', text)\n",
    "    \n",
    "    # Remove numbers\n",
    "    text = re.sub(r'\\d+', '', text)\n",
    "    \n",
    "    # Tokenize\n",
    "    words = text.split()\n",
    "    \n",
    "    # Remove stopwords and lemmatize\n",
    "    words = [lemmatizer.lemmatize(word) for word in words if word not in stop_words]\n",
    "    \n",
    "    # Join back to string\n",
    "    return ' '.join(words)\n",
    "\n",
    "# Apply preprocessing to reviews\n",
    "df['cleaned_review'] = df['review'].apply(preprocess_text)\n",
    "\n",
    "print(\"\\nPreprocessed Reviews:\")\n",
    "print(df[['review', 'cleaned_review']].head())"
   ]
  },
  {
   "cell_type": "code",
   "execution_count": 8,
   "id": "2abca0bc-fdeb-489b-8362-f6b3b5a02726",
   "metadata": {},
   "outputs": [
    {
     "data": {
      "image/png": "[encoded data removed]",
      "text/plain": [
       "<Figure size 800x500 with 1 Axes>"
      ]
     },
     "metadata": {},
     "output_type": "display_data"
    }
   ],
   "source": [
    "# Visualize sentiment distribution\n",
    "plt.figure(figsize=(8, 5))\n",
    "sns.countplot(x='sentiment', data=df)\n",
    "plt.title('Distribution of Sentiments')\n",
    "plt.show()"
   ]
  },
  {
   "cell_type": "code",
   "execution_count": 9,
   "id": "49f2aa1e-78e8-41a7-a485-d4e9ba412001",
   "metadata": {},
   "outputs": [],
   "source": [
    "tfidf = TfidfVectorizer(max_features=1000)  # Limit to top 1000 features\n"
   ]
  },
  {
   "cell_type": "code",
   "execution_count": 10,
   "id": "3ae9c8c3-7bf0-47dd-94b1-5e3ac622f2b2",
   "metadata": {},
   "outputs": [],
   "source": [
    "X = tfidf.fit_transform(df['cleaned_review'])\n",
    "y = df['sentiment']"
   ]
  },
  {
   "cell_type": "code",
   "execution_count": 11,
   "id": "19cff08b-87dd-47fe-9eae-cff1aae04c29",
   "metadata": {},
   "outputs": [
    {
     "name": "stdout",
     "output_type": "stream",
     "text": [
      "\n",
      "Sample TF-IDF Features:\n",
      "['absolutely' 'amazing' 'better' 'bought' 'broke' 'complaint' 'complete'\n",
      " 'could' 'customer' 'day' 'delivery' 'described' 'description' 'didnt'\n",
      " 'ever' 'exceeded' 'excellent' 'expectation' 'expected' 'experience']\n",
      "\n",
      "Training samples: 8\n",
      "Testing samples: 2\n"
     ]
    }
   ],
   "source": [
    "print(\"\\nSample TF-IDF Features:\")\n",
    "print(tfidf.get_feature_names_out()[:20])  # First 20 features\n",
    "\n",
    "# Split data into training and testing sets\n",
    "X_train, X_test, y_train, y_test = train_test_split(X, y, test_size=0.2, random_state=42)\n",
    "\n",
    "print(f\"\\nTraining samples: {X_train.shape[0]}\")\n",
    "print(f\"Testing samples: {X_test.shape[0]}\")\n"
   ]
  },
  {
   "cell_type": "code",
   "execution_count": 12,
   "id": "a0c88786-4075-499f-8887-3f0369bbee8a",
   "metadata": {},
   "outputs": [
    {
     "name": "stdout",
     "output_type": "stream",
     "text": [
      "\n",
      "Accuracy: 0.00\n",
      "\n",
      "Classification Report:\n",
      "              precision    recall  f1-score   support\n",
      "\n",
      "    negative       0.00      0.00      0.00       2.0\n",
      "    positive       0.00      0.00      0.00       0.0\n",
      "\n",
      "    accuracy                           0.00       2.0\n",
      "   macro avg       0.00      0.00      0.00       2.0\n",
      "weighted avg       0.00      0.00      0.00       2.0\n",
      "\n"
     ]
    },
    {
     "name": "stderr",
     "output_type": "stream",
     "text": [
      "C:\\ProgramData\\anaconda3\\Lib\\site-packages\\sklearn\\metrics\\_classification.py:1531: UndefinedMetricWarning: Precision is ill-defined and being set to 0.0 in labels with no predicted samples. Use `zero_division` parameter to control this behavior.\n",
      "  _warn_prf(average, modifier, f\"{metric.capitalize()} is\", len(result))\n",
      "C:\\ProgramData\\anaconda3\\Lib\\site-packages\\sklearn\\metrics\\_classification.py:1531: UndefinedMetricWarning: Recall is ill-defined and being set to 0.0 in labels with no true samples. Use `zero_division` parameter to control this behavior.\n",
      "  _warn_prf(average, modifier, f\"{metric.capitalize()} is\", len(result))\n",
      "C:\\ProgramData\\anaconda3\\Lib\\site-packages\\sklearn\\metrics\\_classification.py:1531: UndefinedMetricWarning: Precision is ill-defined and being set to 0.0 in labels with no predicted samples. Use `zero_division` parameter to control this behavior.\n",
      "  _warn_prf(average, modifier, f\"{metric.capitalize()} is\", len(result))\n",
      "C:\\ProgramData\\anaconda3\\Lib\\site-packages\\sklearn\\metrics\\_classification.py:1531: UndefinedMetricWarning: Recall is ill-defined and being set to 0.0 in labels with no true samples. Use `zero_division` parameter to control this behavior.\n",
      "  _warn_prf(average, modifier, f\"{metric.capitalize()} is\", len(result))\n",
      "C:\\ProgramData\\anaconda3\\Lib\\site-packages\\sklearn\\metrics\\_classification.py:1531: UndefinedMetricWarning: Precision is ill-defined and being set to 0.0 in labels with no predicted samples. Use `zero_division` parameter to control this behavior.\n",
      "  _warn_prf(average, modifier, f\"{metric.capitalize()} is\", len(result))\n",
      "C:\\ProgramData\\anaconda3\\Lib\\site-packages\\sklearn\\metrics\\_classification.py:1531: UndefinedMetricWarning: Recall is ill-defined and being set to 0.0 in labels with no true samples. Use `zero_division` parameter to control this behavior.\n",
      "  _warn_prf(average, modifier, f\"{metric.capitalize()} is\", len(result))\n"
     ]
    }
   ],
   "source": [
    "model = LogisticRegression(max_iter=1000, random_state=42)\n",
    "model.fit(X_train, y_train)\n",
    "\n",
    "# Make predictions\n",
    "y_pred = model.predict(X_test)\n",
    "\n",
    "## Model Evaluation\n",
    "\n",
    "# Accuracy\n",
    "accuracy = accuracy_score(y_test, y_pred)\n",
    "print(f\"\\nAccuracy: {accuracy:.2f}\")\n",
    "\n",
    "# Classification report\n",
    "print(\"\\nClassification Report:\")\n",
    "print(classification_report(y_test, y_pred))"
   ]
  },
  {
   "cell_type": "code",
   "execution_count": 13,
   "id": "5fc8a9bf-f811-4075-923a-8e908755fbbe",
   "metadata": {},
   "outputs": [
    {
     "data": {
      "image/png": "[encoded data removed]",
      "text/plain": [
       "<Figure size 800x600 with 2 Axes>"
      ]
     },
     "metadata": {},
     "output_type": "display_data"
    }
   ],
   "source": [
    "conf_matrix = confusion_matrix(y_test, y_pred)\n",
    "plt.figure(figsize=(8, 6))\n",
    "sns.heatmap(conf_matrix, annot=True, fmt='d', cmap='Blues', \n",
    "            xticklabels=model.classes_, yticklabels=model.classes_)\n",
    "plt.title('Confusion Matrix')\n",
    "plt.xlabel('Predicted')\n",
    "plt.ylabel('Actual')\n",
    "plt.show()"
   ]
  },
  {
   "cell_type": "code",
   "execution_count": 14,
   "id": "f37b577b-8d07-489e-8edb-c76d00552639",
   "metadata": {},
   "outputs": [],
   "source": [
    "def predict_sentiment(text):\n",
    "    # Preprocess\n",
    "    cleaned_text = preprocess_text(text)\n",
    "    \n",
    "    # Vectorize\n",
    "    text_vector = tfidf.transform([cleaned_text])\n",
    "    \n",
    "    # Predict\n",
    "    prediction = model.predict(text_vector)[0]\n",
    "    probability = model.predict_proba(text_vector).max()\n",
    "    \n",
    "    return prediction, probability\n",
    "\n",
    "# Test with some new reviews\n",
    "new_reviews = [\n",
    "    \"This is the best purchase I've made all year!\",\n",
    "    \"I'm very disappointed with the quality.\",\n",
    "    \"It's fine, but I expected better for the price.\",\n",
    "    \"Absolutely horrible experience from start to finish.\",\n",
    "    \"Great product, fast shipping, excellent service.\"\n",
    "]"
   ]
  },
  {
   "cell_type": "code",
   "execution_count": 15,
   "id": "0510554d-d410-4f49-b0a8-2b6963959fe0",
   "metadata": {},
   "outputs": [
    {
     "name": "stdout",
     "output_type": "stream",
     "text": [
      "\n",
      "New Review Predictions:\n",
      "Review: This is the best purchase I've made all year!\n",
      "Predicted Sentiment: positive (Confidence: 0.62)\n",
      "\n",
      "Review: I'm very disappointed with the quality.\n",
      "Predicted Sentiment: positive (Confidence: 0.69)\n",
      "\n",
      "Review: It's fine, but I expected better for the price.\n",
      "Predicted Sentiment: positive (Confidence: 0.57)\n",
      "\n",
      "Review: Absolutely horrible experience from start to finish.\n",
      "Predicted Sentiment: positive (Confidence: 0.67)\n",
      "\n",
      "Review: Great product, fast shipping, excellent service.\n",
      "Predicted Sentiment: positive (Confidence: 0.70)\n",
      "\n"
     ]
    }
   ],
   "source": [
    "print(\"\\nNew Review Predictions:\")\n",
    "for review in new_reviews:\n",
    "    pred, prob = predict_sentiment(review)\n",
    "    print(f\"Review: {review}\")\n",
    "    print(f\"Predicted Sentiment: {pred} (Confidence: {prob:.2f})\")\n",
    "    print()"
   ]
  },
  {
   "cell_type": "code",
   "execution_count": null,
   "id": "a634bd50-2281-47a4-ab92-c5e423d8f36a",
   "metadata": {},
   "outputs": [],
   "source": []
  }
 ],
 "metadata": {
  "kernelspec": {
   "display_name": "Python 3 (ipykernel)",
   "language": "python",
   "name": "python3"
  },
  "language_info": {
   "codemirror_mode": {
    "name": "ipython",
    "version": 3
   },
   "file_extension": ".py",
   "mimetype": "text/x-python",
   "name": "python",
   "nbconvert_exporter": "python",
   "pygments_lexer": "ipython3",
   "version": "3.12.7"
  }
 },
 "nbformat": 4,
 "nbformat_minor": 5
}
